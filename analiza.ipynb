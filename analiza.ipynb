{
 "cells": [
  {
   "cell_type": "markdown",
   "metadata": {},
   "source": [
    "## UVOZ PODATKOV:"
   ]
  },
  {
   "cell_type": "code",
   "execution_count": 1,
   "metadata": {
    "collapsed": true
   },
   "outputs": [],
   "source": [
    "import pandas as pd\n",
    "import numpy as np"
   ]
  },
  {
   "cell_type": "code",
   "execution_count": 2,
   "metadata": {
    "collapsed": true
   },
   "outputs": [],
   "source": [
    "igre = pd.read_csv('igre.csv', index_col='ime')"
   ]
  },
  {
   "cell_type": "code",
   "execution_count": 3,
   "metadata": {
    "collapsed": true
   },
   "outputs": [],
   "source": [
    "kategorije = pd.read_csv('kategorije.csv')\n",
    "zanri = pd.read_csv('zanri.csv')"
   ]
  },
  {
   "cell_type": "code",
   "execution_count": 4,
   "metadata": {
    "scrolled": true
   },
   "outputs": [
    {
     "data": {
      "text/html": [
       "<div>\n",
       "<style>\n",
       "    .dataframe thead tr:only-child th {\n",
       "        text-align: right;\n",
       "    }\n",
       "\n",
       "    .dataframe thead th {\n",
       "        text-align: left;\n",
       "    }\n",
       "\n",
       "    .dataframe tbody tr th {\n",
       "        vertical-align: top;\n",
       "    }\n",
       "</style>\n",
       "<table border=\"1\" class=\"dataframe\">\n",
       "  <thead>\n",
       "    <tr style=\"text-align: right;\">\n",
       "      <th></th>\n",
       "      <th>leto</th>\n",
       "      <th>odstotek</th>\n",
       "      <th>stevilo_ocen</th>\n",
       "      <th>cena</th>\n",
       "      <th>razvijalec</th>\n",
       "      <th>izdajatelj</th>\n",
       "      <th>RAM</th>\n",
       "      <th>prostor</th>\n",
       "    </tr>\n",
       "    <tr>\n",
       "      <th>ime</th>\n",
       "      <th></th>\n",
       "      <th></th>\n",
       "      <th></th>\n",
       "      <th></th>\n",
       "      <th></th>\n",
       "      <th></th>\n",
       "      <th></th>\n",
       "      <th></th>\n",
       "    </tr>\n",
       "  </thead>\n",
       "  <tbody>\n",
       "    <tr>\n",
       "      <th>100% Orange Juice.html</th>\n",
       "      <td>2013</td>\n",
       "      <td>94</td>\n",
       "      <td>5921</td>\n",
       "      <td>6.99</td>\n",
       "      <td>Orange_Juice</td>\n",
       "      <td>Fruitbat Factory</td>\n",
       "      <td>1024.0</td>\n",
       "      <td>1024.0</td>\n",
       "    </tr>\n",
       "    <tr>\n",
       "      <th>12 is Better Than 6.html</th>\n",
       "      <td>2015</td>\n",
       "      <td>83</td>\n",
       "      <td>1834</td>\n",
       "      <td>6.99</td>\n",
       "      <td>Ink Stains Games</td>\n",
       "      <td>HypeTrain Digital</td>\n",
       "      <td>2048.0</td>\n",
       "      <td>300.0</td>\n",
       "    </tr>\n",
       "    <tr>\n",
       "      <th>20XX.html</th>\n",
       "      <td>2017</td>\n",
       "      <td>93</td>\n",
       "      <td>2149</td>\n",
       "      <td>14.99</td>\n",
       "      <td>Batterystaple Games</td>\n",
       "      <td>Batterystaple Games</td>\n",
       "      <td>1024.0</td>\n",
       "      <td>1024.0</td>\n",
       "    </tr>\n",
       "    <tr>\n",
       "      <th>60 Seconds!.html</th>\n",
       "      <td>2015</td>\n",
       "      <td>77</td>\n",
       "      <td>5385</td>\n",
       "      <td>9.99</td>\n",
       "      <td>Robot Gentleman</td>\n",
       "      <td>Robot Gentleman</td>\n",
       "      <td>4096.0</td>\n",
       "      <td>3072.0</td>\n",
       "    </tr>\n",
       "    <tr>\n",
       "      <th>8-Bit Armies.html</th>\n",
       "      <td>2016</td>\n",
       "      <td>80</td>\n",
       "      <td>1340</td>\n",
       "      <td>4.99</td>\n",
       "      <td>Petroglyph</td>\n",
       "      <td>Petroglyph</td>\n",
       "      <td>4096.0</td>\n",
       "      <td>2048.0</td>\n",
       "    </tr>\n",
       "    <tr>\n",
       "      <th>911 Operator.html</th>\n",
       "      <td>2017</td>\n",
       "      <td>82</td>\n",
       "      <td>3400</td>\n",
       "      <td>14.99</td>\n",
       "      <td>Jutsu Games</td>\n",
       "      <td>Games Operators</td>\n",
       "      <td>1024.0</td>\n",
       "      <td>500.0</td>\n",
       "    </tr>\n",
       "    <tr>\n",
       "      <th>A Bird Story.html</th>\n",
       "      <td>2014</td>\n",
       "      <td>84</td>\n",
       "      <td>4512</td>\n",
       "      <td>3.99</td>\n",
       "      <td>Freebird Games</td>\n",
       "      <td>Freebird Games</td>\n",
       "      <td>2048.0</td>\n",
       "      <td>200.0</td>\n",
       "    </tr>\n",
       "    <tr>\n",
       "      <th>A Hat in Time.html</th>\n",
       "      <td>2017</td>\n",
       "      <td>98</td>\n",
       "      <td>6889</td>\n",
       "      <td>27.99</td>\n",
       "      <td>Gears for Breakfast</td>\n",
       "      <td>Gears for Breakfast</td>\n",
       "      <td>4096.0</td>\n",
       "      <td>5120.0</td>\n",
       "    </tr>\n",
       "    <tr>\n",
       "      <th>A Story About My Uncle.html</th>\n",
       "      <td>2014</td>\n",
       "      <td>92</td>\n",
       "      <td>8982</td>\n",
       "      <td>12.99</td>\n",
       "      <td>Gone North Games</td>\n",
       "      <td>Coffee Stain Publishing</td>\n",
       "      <td>2048.0</td>\n",
       "      <td>2048.0</td>\n",
       "    </tr>\n",
       "    <tr>\n",
       "      <th>Aberoth.html</th>\n",
       "      <td>2015</td>\n",
       "      <td>60</td>\n",
       "      <td>1175</td>\n",
       "      <td>0.00</td>\n",
       "      <td>Jarbit</td>\n",
       "      <td>Jarbit</td>\n",
       "      <td>256.0</td>\n",
       "      <td>200.0</td>\n",
       "    </tr>\n",
       "    <tr>\n",
       "      <th>Absolver.html</th>\n",
       "      <td>2017</td>\n",
       "      <td>66</td>\n",
       "      <td>7312</td>\n",
       "      <td>29.99</td>\n",
       "      <td>Sloclap</td>\n",
       "      <td>Devolver Digital</td>\n",
       "      <td>4096.0</td>\n",
       "      <td>11264.0</td>\n",
       "    </tr>\n",
       "    <tr>\n",
       "      <th>ABZU.html</th>\n",
       "      <td>2016</td>\n",
       "      <td>92</td>\n",
       "      <td>12182</td>\n",
       "      <td>19.99</td>\n",
       "      <td>Giant Squid</td>\n",
       "      <td>505 Games</td>\n",
       "      <td>4096.0</td>\n",
       "      <td>6144.0</td>\n",
       "    </tr>\n",
       "    <tr>\n",
       "      <th>Ace Combat Assault Horizon - Enhanced Edition.html</th>\n",
       "      <td>2013</td>\n",
       "      <td>60</td>\n",
       "      <td>2874</td>\n",
       "      <td>19.99</td>\n",
       "      <td>NAMCO</td>\n",
       "      <td>BANDAI NAMCO Entertainment</td>\n",
       "      <td>NaN</td>\n",
       "      <td>NaN</td>\n",
       "    </tr>\n",
       "    <tr>\n",
       "      <th>Act of Aggression - Reboot Edition.html</th>\n",
       "      <td>2015</td>\n",
       "      <td>60</td>\n",
       "      <td>1616</td>\n",
       "      <td>29.99</td>\n",
       "      <td>Eugen Systems</td>\n",
       "      <td>Focus Home Interactive</td>\n",
       "      <td>2048.0</td>\n",
       "      <td>15360.0</td>\n",
       "    </tr>\n",
       "    <tr>\n",
       "      <th>AdVenture Capitalist.html</th>\n",
       "      <td>2015</td>\n",
       "      <td>89</td>\n",
       "      <td>38651</td>\n",
       "      <td>0.00</td>\n",
       "      <td>Hyper Hippo Games</td>\n",
       "      <td>Hyper Hippo Games</td>\n",
       "      <td>512.0</td>\n",
       "      <td>60.0</td>\n",
       "    </tr>\n",
       "    <tr>\n",
       "      <th>AdVenture Communist.html</th>\n",
       "      <td>2016</td>\n",
       "      <td>68</td>\n",
       "      <td>3434</td>\n",
       "      <td>0.00</td>\n",
       "      <td>Hyper Hippo Games</td>\n",
       "      <td>Hyper Hippo Games</td>\n",
       "      <td>512.0</td>\n",
       "      <td>60.0</td>\n",
       "    </tr>\n",
       "    <tr>\n",
       "      <th>AdventureQuest 3D.html</th>\n",
       "      <td>2016</td>\n",
       "      <td>69</td>\n",
       "      <td>3308</td>\n",
       "      <td>0.00</td>\n",
       "      <td>Artix Entertainment, LLC</td>\n",
       "      <td>Artix Entertainment, LLC</td>\n",
       "      <td>1024.0</td>\n",
       "      <td>500.0</td>\n",
       "    </tr>\n",
       "    <tr>\n",
       "      <th>Agarest, Generations of War.html</th>\n",
       "      <td>2014</td>\n",
       "      <td>73</td>\n",
       "      <td>1422</td>\n",
       "      <td>14.99</td>\n",
       "      <td>Idea Factory</td>\n",
       "      <td>Ghostlight LTD</td>\n",
       "      <td>1024.0</td>\n",
       "      <td>5120.0</td>\n",
       "    </tr>\n",
       "    <tr>\n",
       "      <th>Age of Conquest IV.html</th>\n",
       "      <td>2016</td>\n",
       "      <td>78</td>\n",
       "      <td>1402</td>\n",
       "      <td>0.00</td>\n",
       "      <td>Noble Master LLC</td>\n",
       "      <td>Noble Master LLC</td>\n",
       "      <td>512.0</td>\n",
       "      <td>256.0</td>\n",
       "    </tr>\n",
       "    <tr>\n",
       "      <th>Age of Empires II HD.html</th>\n",
       "      <td>2013</td>\n",
       "      <td>94</td>\n",
       "      <td>39966</td>\n",
       "      <td>19.99</td>\n",
       "      <td>Skybox Labs</td>\n",
       "      <td>Microsoft Studios</td>\n",
       "      <td>NaN</td>\n",
       "      <td>NaN</td>\n",
       "    </tr>\n",
       "    <tr>\n",
       "      <th>Age of Empires® III, Complete Collection.html</th>\n",
       "      <td>2009</td>\n",
       "      <td>88</td>\n",
       "      <td>11437</td>\n",
       "      <td>36.99</td>\n",
       "      <td>Ensemble Studios</td>\n",
       "      <td>Microsoft Studios</td>\n",
       "      <td>NaN</td>\n",
       "      <td>NaN</td>\n",
       "    </tr>\n",
       "    <tr>\n",
       "      <th>Age of Mythology, Extended Edition.html</th>\n",
       "      <td>2014</td>\n",
       "      <td>84</td>\n",
       "      <td>8128</td>\n",
       "      <td>27.99</td>\n",
       "      <td>SkyBox Labs</td>\n",
       "      <td>Microsoft Studios</td>\n",
       "      <td>1024.0</td>\n",
       "      <td>3072.0</td>\n",
       "    </tr>\n",
       "    <tr>\n",
       "      <th>Age of Wonders III.html</th>\n",
       "      <td>2014</td>\n",
       "      <td>79</td>\n",
       "      <td>4211</td>\n",
       "      <td>29.99</td>\n",
       "      <td>Triumph Studios</td>\n",
       "      <td>Paradox Interactive</td>\n",
       "      <td>2048.0</td>\n",
       "      <td>10240.0</td>\n",
       "    </tr>\n",
       "    <tr>\n",
       "      <th>Aim Hero.html</th>\n",
       "      <td>2016</td>\n",
       "      <td>87</td>\n",
       "      <td>2157</td>\n",
       "      <td>4.99</td>\n",
       "      <td>ProGames Studio</td>\n",
       "      <td>ProGames Studio</td>\n",
       "      <td>2048.0</td>\n",
       "      <td>350.0</td>\n",
       "    </tr>\n",
       "    <tr>\n",
       "      <th>Airport CEO.html</th>\n",
       "      <td>2017</td>\n",
       "      <td>80</td>\n",
       "      <td>1405</td>\n",
       "      <td>15.99</td>\n",
       "      <td>Apoapsis Studios</td>\n",
       "      <td>Apoapsis Studios</td>\n",
       "      <td>2048.0</td>\n",
       "      <td>2048.0</td>\n",
       "    </tr>\n",
       "    <tr>\n",
       "      <th>Airships, Conquer the Skies.html</th>\n",
       "      <td>2015</td>\n",
       "      <td>96</td>\n",
       "      <td>1229</td>\n",
       "      <td>14.99</td>\n",
       "      <td>David Stark</td>\n",
       "      <td>David Stark</td>\n",
       "      <td>256.0</td>\n",
       "      <td>1024.0</td>\n",
       "    </tr>\n",
       "    <tr>\n",
       "      <th>Alan Wake's American Nightmare.html</th>\n",
       "      <td>2012</td>\n",
       "      <td>70</td>\n",
       "      <td>3243</td>\n",
       "      <td>9.99</td>\n",
       "      <td>Remedy Entertainment</td>\n",
       "      <td>Remedy Entertainment</td>\n",
       "      <td>NaN</td>\n",
       "      <td>NaN</td>\n",
       "    </tr>\n",
       "    <tr>\n",
       "      <th>Aliens versus Predator Classic 2000.html</th>\n",
       "      <td>2000</td>\n",
       "      <td>86</td>\n",
       "      <td>1378</td>\n",
       "      <td>4.99</td>\n",
       "      <td>Rebellion</td>\n",
       "      <td>Rebellion</td>\n",
       "      <td>NaN</td>\n",
       "      <td>NaN</td>\n",
       "    </tr>\n",
       "    <tr>\n",
       "      <th>Aliens vs. Predator™.html</th>\n",
       "      <td>2010</td>\n",
       "      <td>87</td>\n",
       "      <td>6610</td>\n",
       "      <td>14.99</td>\n",
       "      <td>Rebellion</td>\n",
       "      <td>SEGA</td>\n",
       "      <td>NaN</td>\n",
       "      <td>NaN</td>\n",
       "    </tr>\n",
       "    <tr>\n",
       "      <th>Amazing Frog,.html</th>\n",
       "      <td>2014</td>\n",
       "      <td>86</td>\n",
       "      <td>1355</td>\n",
       "      <td>15.99</td>\n",
       "      <td>Fayju</td>\n",
       "      <td>Fayju</td>\n",
       "      <td>4096.0</td>\n",
       "      <td>1024.0</td>\n",
       "    </tr>\n",
       "    <tr>\n",
       "      <th>...</th>\n",
       "      <td>...</td>\n",
       "      <td>...</td>\n",
       "      <td>...</td>\n",
       "      <td>...</td>\n",
       "      <td>...</td>\n",
       "      <td>...</td>\n",
       "      <td>...</td>\n",
       "      <td>...</td>\n",
       "    </tr>\n",
       "    <tr>\n",
       "      <th>Worms W.M.D.html</th>\n",
       "      <td>2016</td>\n",
       "      <td>78</td>\n",
       "      <td>1619</td>\n",
       "      <td>9.99</td>\n",
       "      <td>Team17 Digital Ltd</td>\n",
       "      <td>Team17 Digital Ltd</td>\n",
       "      <td>NaN</td>\n",
       "      <td>NaN</td>\n",
       "    </tr>\n",
       "    <tr>\n",
       "      <th>Wurm Unlimited.html</th>\n",
       "      <td>2015</td>\n",
       "      <td>69</td>\n",
       "      <td>1192</td>\n",
       "      <td>7.99</td>\n",
       "      <td>Code Club AB</td>\n",
       "      <td>Plug In Digital</td>\n",
       "      <td>4096.0</td>\n",
       "      <td>3000.0</td>\n",
       "    </tr>\n",
       "    <tr>\n",
       "      <th>X Rebirth.html</th>\n",
       "      <td>2013</td>\n",
       "      <td>39</td>\n",
       "      <td>4670</td>\n",
       "      <td>29.99</td>\n",
       "      <td>Egosoft</td>\n",
       "      <td>Egosoft</td>\n",
       "      <td>4096.0</td>\n",
       "      <td>8192.0</td>\n",
       "    </tr>\n",
       "    <tr>\n",
       "      <th>X-COM, UFO Defense.html</th>\n",
       "      <td>1993</td>\n",
       "      <td>96</td>\n",
       "      <td>1660</td>\n",
       "      <td>4.99</td>\n",
       "      <td>MicroProse Software, Inc</td>\n",
       "      <td>2K</td>\n",
       "      <td>NaN</td>\n",
       "      <td>NaN</td>\n",
       "    </tr>\n",
       "    <tr>\n",
       "      <th>X-Plane 11.html</th>\n",
       "      <td>2017</td>\n",
       "      <td>81</td>\n",
       "      <td>1586</td>\n",
       "      <td>64.99</td>\n",
       "      <td>Laminar Research</td>\n",
       "      <td>Laminar Research</td>\n",
       "      <td>8192.0</td>\n",
       "      <td>20480.0</td>\n",
       "    </tr>\n",
       "    <tr>\n",
       "      <th>X3, Terran Conflict.html</th>\n",
       "      <td>2008</td>\n",
       "      <td>85</td>\n",
       "      <td>1242</td>\n",
       "      <td>15.99</td>\n",
       "      <td>Egosoft</td>\n",
       "      <td>Egosoft</td>\n",
       "      <td>NaN</td>\n",
       "      <td>NaN</td>\n",
       "    </tr>\n",
       "    <tr>\n",
       "      <th>XCOM® 2.html</th>\n",
       "      <td>2016</td>\n",
       "      <td>80</td>\n",
       "      <td>19911</td>\n",
       "      <td>49.99</td>\n",
       "      <td>Firaxis Games</td>\n",
       "      <td>2K</td>\n",
       "      <td>4096.0</td>\n",
       "      <td>46080.0</td>\n",
       "    </tr>\n",
       "    <tr>\n",
       "      <th>Xenonauts.html</th>\n",
       "      <td>2014</td>\n",
       "      <td>88</td>\n",
       "      <td>1844</td>\n",
       "      <td>22.99</td>\n",
       "      <td>Goldhawk Interactive</td>\n",
       "      <td>Goldhawk Interactive</td>\n",
       "      <td>NaN</td>\n",
       "      <td>NaN</td>\n",
       "    </tr>\n",
       "    <tr>\n",
       "      <th>Yet Another Zombie Defense.html</th>\n",
       "      <td>2014</td>\n",
       "      <td>87</td>\n",
       "      <td>7996</td>\n",
       "      <td>1.99</td>\n",
       "      <td>Awesome Games Studio</td>\n",
       "      <td>Awesome Games Studio</td>\n",
       "      <td>1024.0</td>\n",
       "      <td>50.0</td>\n",
       "    </tr>\n",
       "    <tr>\n",
       "      <th>Yonder, The Cloud Catcher Chronicles.html</th>\n",
       "      <td>2017</td>\n",
       "      <td>82</td>\n",
       "      <td>1581</td>\n",
       "      <td>22.99</td>\n",
       "      <td>Prideful Sloth</td>\n",
       "      <td>Prideful Sloth</td>\n",
       "      <td>6144.0</td>\n",
       "      <td>4096.0</td>\n",
       "    </tr>\n",
       "    <tr>\n",
       "      <th>Yooka-Laylee.html</th>\n",
       "      <td>2017</td>\n",
       "      <td>79</td>\n",
       "      <td>1400</td>\n",
       "      <td>9.99</td>\n",
       "      <td>Playtonic Games</td>\n",
       "      <td>Team17 Digital Ltd</td>\n",
       "      <td>8192.0</td>\n",
       "      <td>9216.0</td>\n",
       "    </tr>\n",
       "    <tr>\n",
       "      <th>Youtubers Life.html</th>\n",
       "      <td>2016</td>\n",
       "      <td>72</td>\n",
       "      <td>7686</td>\n",
       "      <td>24.99</td>\n",
       "      <td>U-Play Online</td>\n",
       "      <td>U-Play Online</td>\n",
       "      <td>2048.0</td>\n",
       "      <td>3072.0</td>\n",
       "    </tr>\n",
       "    <tr>\n",
       "      <th>Ys I &amp;amp; II Chronicles+.html</th>\n",
       "      <td>2013</td>\n",
       "      <td>88</td>\n",
       "      <td>1025</td>\n",
       "      <td>11.99</td>\n",
       "      <td>Nihon Falcom</td>\n",
       "      <td>XSEED Games</td>\n",
       "      <td>NaN</td>\n",
       "      <td>NaN</td>\n",
       "    </tr>\n",
       "    <tr>\n",
       "      <th>Ys Origin.html</th>\n",
       "      <td>2012</td>\n",
       "      <td>95</td>\n",
       "      <td>1479</td>\n",
       "      <td>15.99</td>\n",
       "      <td>Nihon Falcom</td>\n",
       "      <td>XSEED Games</td>\n",
       "      <td>NaN</td>\n",
       "      <td>NaN</td>\n",
       "    </tr>\n",
       "    <tr>\n",
       "      <th>Yu-Gi-Oh! Duel Links.html</th>\n",
       "      <td>2017</td>\n",
       "      <td>75</td>\n",
       "      <td>7486</td>\n",
       "      <td>0.00</td>\n",
       "      <td>Konami Digital Entertainment</td>\n",
       "      <td>Konami Digital Entertainment</td>\n",
       "      <td>2048.0</td>\n",
       "      <td>4096.0</td>\n",
       "    </tr>\n",
       "    <tr>\n",
       "      <th>Yu-Gi-Oh! Legacy of the Duelist.html</th>\n",
       "      <td>2016</td>\n",
       "      <td>84</td>\n",
       "      <td>1827</td>\n",
       "      <td>19.99</td>\n",
       "      <td>Other Ocean Interactive</td>\n",
       "      <td>Konami Digital Entertainment, Inc.</td>\n",
       "      <td>2048.0</td>\n",
       "      <td>2048.0</td>\n",
       "    </tr>\n",
       "    <tr>\n",
       "      <th>Zenge.html</th>\n",
       "      <td>2016</td>\n",
       "      <td>95</td>\n",
       "      <td>2032</td>\n",
       "      <td>0.99</td>\n",
       "      <td>Michal Pawlowski</td>\n",
       "      <td>Hamster On Coke Games</td>\n",
       "      <td>1024.0</td>\n",
       "      <td>160.0</td>\n",
       "    </tr>\n",
       "    <tr>\n",
       "      <th>Zeno Clash.html</th>\n",
       "      <td>2009</td>\n",
       "      <td>87</td>\n",
       "      <td>1390</td>\n",
       "      <td>9.94</td>\n",
       "      <td>ACE Team</td>\n",
       "      <td>ACE Team</td>\n",
       "      <td>NaN</td>\n",
       "      <td>NaN</td>\n",
       "    </tr>\n",
       "    <tr>\n",
       "      <th>Ziggurat.html</th>\n",
       "      <td>2014</td>\n",
       "      <td>88</td>\n",
       "      <td>2276</td>\n",
       "      <td>14.99</td>\n",
       "      <td>Milkstone Studios</td>\n",
       "      <td>Milkstone Studios</td>\n",
       "      <td>2048.0</td>\n",
       "      <td>800.0</td>\n",
       "    </tr>\n",
       "    <tr>\n",
       "      <th>ZOMBI.html</th>\n",
       "      <td>2015</td>\n",
       "      <td>64</td>\n",
       "      <td>1379</td>\n",
       "      <td>19.99</td>\n",
       "      <td>Straight Right</td>\n",
       "      <td>Ubisoft</td>\n",
       "      <td>4096.0</td>\n",
       "      <td>25600.0</td>\n",
       "    </tr>\n",
       "    <tr>\n",
       "      <th>Zombidle , REMONSTERED.html</th>\n",
       "      <td>2017</td>\n",
       "      <td>86</td>\n",
       "      <td>1020</td>\n",
       "      <td>0.00</td>\n",
       "      <td>Berzerk Studio</td>\n",
       "      <td>Berzerk Studio</td>\n",
       "      <td>500.0</td>\n",
       "      <td>150.0</td>\n",
       "    </tr>\n",
       "    <tr>\n",
       "      <th>Zombie Army Trilogy.html</th>\n",
       "      <td>2015</td>\n",
       "      <td>86</td>\n",
       "      <td>7145</td>\n",
       "      <td>41.99</td>\n",
       "      <td>Rebellion</td>\n",
       "      <td>Rebellion</td>\n",
       "      <td>2048.0</td>\n",
       "      <td>15360.0</td>\n",
       "    </tr>\n",
       "    <tr>\n",
       "      <th>Zombie Defense.html</th>\n",
       "      <td>2016</td>\n",
       "      <td>82</td>\n",
       "      <td>1389</td>\n",
       "      <td>0.00</td>\n",
       "      <td>Home Net Games</td>\n",
       "      <td>Home Net Games</td>\n",
       "      <td>512.0</td>\n",
       "      <td>200.0</td>\n",
       "    </tr>\n",
       "    <tr>\n",
       "      <th>Zula - Europe.html</th>\n",
       "      <td>2016</td>\n",
       "      <td>68</td>\n",
       "      <td>5521</td>\n",
       "      <td>0.00</td>\n",
       "      <td>Madbyte Games</td>\n",
       "      <td>IDC/Games</td>\n",
       "      <td>2048.0</td>\n",
       "      <td>1024.0</td>\n",
       "    </tr>\n",
       "    <tr>\n",
       "      <th>Zup! 2.html</th>\n",
       "      <td>2016</td>\n",
       "      <td>95</td>\n",
       "      <td>4265</td>\n",
       "      <td>0.99</td>\n",
       "      <td>Quiet River</td>\n",
       "      <td>Quiet River</td>\n",
       "      <td>256.0</td>\n",
       "      <td>15.0</td>\n",
       "    </tr>\n",
       "    <tr>\n",
       "      <th>Zup! 3.html</th>\n",
       "      <td>2017</td>\n",
       "      <td>87</td>\n",
       "      <td>3622</td>\n",
       "      <td>0.99</td>\n",
       "      <td>Quiet River</td>\n",
       "      <td>Quiet River</td>\n",
       "      <td>256.0</td>\n",
       "      <td>15.0</td>\n",
       "    </tr>\n",
       "    <tr>\n",
       "      <th>Zup! Zero.html</th>\n",
       "      <td>2017</td>\n",
       "      <td>92</td>\n",
       "      <td>1208</td>\n",
       "      <td>0.99</td>\n",
       "      <td>Quiet River</td>\n",
       "      <td>Quiet River</td>\n",
       "      <td>256.0</td>\n",
       "      <td>15.0</td>\n",
       "    </tr>\n",
       "    <tr>\n",
       "      <th>Zup!.html</th>\n",
       "      <td>2016</td>\n",
       "      <td>93</td>\n",
       "      <td>5465</td>\n",
       "      <td>0.99</td>\n",
       "      <td>Quiet River</td>\n",
       "      <td>Quiet River</td>\n",
       "      <td>256.0</td>\n",
       "      <td>15.0</td>\n",
       "    </tr>\n",
       "    <tr>\n",
       "      <th>侠客风云传(Tale of Wuxia).html</th>\n",
       "      <td>2016</td>\n",
       "      <td>80</td>\n",
       "      <td>2165</td>\n",
       "      <td>16.99</td>\n",
       "      <td>Heluo Studio</td>\n",
       "      <td>Fenghuang Game</td>\n",
       "      <td>2048.0</td>\n",
       "      <td>20480.0</td>\n",
       "    </tr>\n",
       "    <tr>\n",
       "      <th>東方天空璋 ～ Hidden Star in Four Seasons..html</th>\n",
       "      <td>2017</td>\n",
       "      <td>98</td>\n",
       "      <td>3727</td>\n",
       "      <td>14.99</td>\n",
       "      <td>上海アリス幻樂団</td>\n",
       "      <td>Mediascape Co., Ltd.</td>\n",
       "      <td>1024.0</td>\n",
       "      <td>600.0</td>\n",
       "    </tr>\n",
       "  </tbody>\n",
       "</table>\n",
       "<p>1199 rows × 8 columns</p>\n",
       "</div>"
      ],
      "text/plain": [
       "                                                    leto  odstotek  \\\n",
       "ime                                                                  \n",
       "100% Orange Juice.html                              2013        94   \n",
       "12 is Better Than 6.html                            2015        83   \n",
       "20XX.html                                           2017        93   \n",
       "60 Seconds!.html                                    2015        77   \n",
       "8-Bit Armies.html                                   2016        80   \n",
       "911 Operator.html                                   2017        82   \n",
       "A Bird Story.html                                   2014        84   \n",
       "A Hat in Time.html                                  2017        98   \n",
       "A Story About My Uncle.html                         2014        92   \n",
       "Aberoth.html                                        2015        60   \n",
       "Absolver.html                                       2017        66   \n",
       "ABZU.html                                           2016        92   \n",
       "Ace Combat Assault Horizon - Enhanced Edition.html  2013        60   \n",
       "Act of Aggression - Reboot Edition.html             2015        60   \n",
       "AdVenture Capitalist.html                           2015        89   \n",
       "AdVenture Communist.html                            2016        68   \n",
       "AdventureQuest 3D.html                              2016        69   \n",
       "Agarest, Generations of War.html                    2014        73   \n",
       "Age of Conquest IV.html                             2016        78   \n",
       "Age of Empires II HD.html                           2013        94   \n",
       "Age of Empires® III, Complete Collection.html       2009        88   \n",
       "Age of Mythology, Extended Edition.html             2014        84   \n",
       "Age of Wonders III.html                             2014        79   \n",
       "Aim Hero.html                                       2016        87   \n",
       "Airport CEO.html                                    2017        80   \n",
       "Airships, Conquer the Skies.html                    2015        96   \n",
       "Alan Wake's American Nightmare.html                 2012        70   \n",
       "Aliens versus Predator Classic 2000.html            2000        86   \n",
       "Aliens vs. Predator™.html                           2010        87   \n",
       "Amazing Frog,.html                                  2014        86   \n",
       "...                                                  ...       ...   \n",
       "Worms W.M.D.html                                    2016        78   \n",
       "Wurm Unlimited.html                                 2015        69   \n",
       "X Rebirth.html                                      2013        39   \n",
       "X-COM, UFO Defense.html                             1993        96   \n",
       "X-Plane 11.html                                     2017        81   \n",
       "X3, Terran Conflict.html                            2008        85   \n",
       "XCOM® 2.html                                        2016        80   \n",
       "Xenonauts.html                                      2014        88   \n",
       "Yet Another Zombie Defense.html                     2014        87   \n",
       "Yonder, The Cloud Catcher Chronicles.html           2017        82   \n",
       "Yooka-Laylee.html                                   2017        79   \n",
       "Youtubers Life.html                                 2016        72   \n",
       "Ys I &amp; II Chronicles+.html                      2013        88   \n",
       "Ys Origin.html                                      2012        95   \n",
       "Yu-Gi-Oh! Duel Links.html                           2017        75   \n",
       "Yu-Gi-Oh! Legacy of the Duelist.html                2016        84   \n",
       "Zenge.html                                          2016        95   \n",
       "Zeno Clash.html                                     2009        87   \n",
       "Ziggurat.html                                       2014        88   \n",
       "ZOMBI.html                                          2015        64   \n",
       "Zombidle , REMONSTERED.html                         2017        86   \n",
       "Zombie Army Trilogy.html                            2015        86   \n",
       "Zombie Defense.html                                 2016        82   \n",
       "Zula - Europe.html                                  2016        68   \n",
       "Zup! 2.html                                         2016        95   \n",
       "Zup! 3.html                                         2017        87   \n",
       "Zup! Zero.html                                      2017        92   \n",
       "Zup!.html                                           2016        93   \n",
       "侠客风云传(Tale of Wuxia).html                           2016        80   \n",
       "東方天空璋 ～ Hidden Star in Four Seasons..html           2017        98   \n",
       "\n",
       "                                                    stevilo_ocen   cena  \\\n",
       "ime                                                                       \n",
       "100% Orange Juice.html                                      5921   6.99   \n",
       "12 is Better Than 6.html                                    1834   6.99   \n",
       "20XX.html                                                   2149  14.99   \n",
       "60 Seconds!.html                                            5385   9.99   \n",
       "8-Bit Armies.html                                           1340   4.99   \n",
       "911 Operator.html                                           3400  14.99   \n",
       "A Bird Story.html                                           4512   3.99   \n",
       "A Hat in Time.html                                          6889  27.99   \n",
       "A Story About My Uncle.html                                 8982  12.99   \n",
       "Aberoth.html                                                1175   0.00   \n",
       "Absolver.html                                               7312  29.99   \n",
       "ABZU.html                                                  12182  19.99   \n",
       "Ace Combat Assault Horizon - Enhanced Edition.html          2874  19.99   \n",
       "Act of Aggression - Reboot Edition.html                     1616  29.99   \n",
       "AdVenture Capitalist.html                                  38651   0.00   \n",
       "AdVenture Communist.html                                    3434   0.00   \n",
       "AdventureQuest 3D.html                                      3308   0.00   \n",
       "Agarest, Generations of War.html                            1422  14.99   \n",
       "Age of Conquest IV.html                                     1402   0.00   \n",
       "Age of Empires II HD.html                                  39966  19.99   \n",
       "Age of Empires® III, Complete Collection.html              11437  36.99   \n",
       "Age of Mythology, Extended Edition.html                     8128  27.99   \n",
       "Age of Wonders III.html                                     4211  29.99   \n",
       "Aim Hero.html                                               2157   4.99   \n",
       "Airport CEO.html                                            1405  15.99   \n",
       "Airships, Conquer the Skies.html                            1229  14.99   \n",
       "Alan Wake's American Nightmare.html                         3243   9.99   \n",
       "Aliens versus Predator Classic 2000.html                    1378   4.99   \n",
       "Aliens vs. Predator™.html                                   6610  14.99   \n",
       "Amazing Frog,.html                                          1355  15.99   \n",
       "...                                                          ...    ...   \n",
       "Worms W.M.D.html                                            1619   9.99   \n",
       "Wurm Unlimited.html                                         1192   7.99   \n",
       "X Rebirth.html                                              4670  29.99   \n",
       "X-COM, UFO Defense.html                                     1660   4.99   \n",
       "X-Plane 11.html                                             1586  64.99   \n",
       "X3, Terran Conflict.html                                    1242  15.99   \n",
       "XCOM® 2.html                                               19911  49.99   \n",
       "Xenonauts.html                                              1844  22.99   \n",
       "Yet Another Zombie Defense.html                             7996   1.99   \n",
       "Yonder, The Cloud Catcher Chronicles.html                   1581  22.99   \n",
       "Yooka-Laylee.html                                           1400   9.99   \n",
       "Youtubers Life.html                                         7686  24.99   \n",
       "Ys I &amp; II Chronicles+.html                              1025  11.99   \n",
       "Ys Origin.html                                              1479  15.99   \n",
       "Yu-Gi-Oh! Duel Links.html                                   7486   0.00   \n",
       "Yu-Gi-Oh! Legacy of the Duelist.html                        1827  19.99   \n",
       "Zenge.html                                                  2032   0.99   \n",
       "Zeno Clash.html                                             1390   9.94   \n",
       "Ziggurat.html                                               2276  14.99   \n",
       "ZOMBI.html                                                  1379  19.99   \n",
       "Zombidle , REMONSTERED.html                                 1020   0.00   \n",
       "Zombie Army Trilogy.html                                    7145  41.99   \n",
       "Zombie Defense.html                                         1389   0.00   \n",
       "Zula - Europe.html                                          5521   0.00   \n",
       "Zup! 2.html                                                 4265   0.99   \n",
       "Zup! 3.html                                                 3622   0.99   \n",
       "Zup! Zero.html                                              1208   0.99   \n",
       "Zup!.html                                                   5465   0.99   \n",
       "侠客风云传(Tale of Wuxia).html                                   2165  16.99   \n",
       "東方天空璋 ～ Hidden Star in Four Seasons..html                   3727  14.99   \n",
       "\n",
       "                                                                      razvijalec  \\\n",
       "ime                                                                                \n",
       "100% Orange Juice.html                                              Orange_Juice   \n",
       "12 is Better Than 6.html                                        Ink Stains Games   \n",
       "20XX.html                                                    Batterystaple Games   \n",
       "60 Seconds!.html                                                 Robot Gentleman   \n",
       "8-Bit Armies.html                                                     Petroglyph   \n",
       "911 Operator.html                                                    Jutsu Games   \n",
       "A Bird Story.html                                                 Freebird Games   \n",
       "A Hat in Time.html                                           Gears for Breakfast   \n",
       "A Story About My Uncle.html                                     Gone North Games   \n",
       "Aberoth.html                                                              Jarbit   \n",
       "Absolver.html                                                            Sloclap   \n",
       "ABZU.html                                                            Giant Squid   \n",
       "Ace Combat Assault Horizon - Enhanced Edition.html                         NAMCO   \n",
       "Act of Aggression - Reboot Edition.html                            Eugen Systems   \n",
       "AdVenture Capitalist.html                                      Hyper Hippo Games   \n",
       "AdVenture Communist.html                                       Hyper Hippo Games   \n",
       "AdventureQuest 3D.html                                  Artix Entertainment, LLC   \n",
       "Agarest, Generations of War.html                                    Idea Factory   \n",
       "Age of Conquest IV.html                                         Noble Master LLC   \n",
       "Age of Empires II HD.html                                            Skybox Labs   \n",
       "Age of Empires® III, Complete Collection.html                   Ensemble Studios   \n",
       "Age of Mythology, Extended Edition.html                              SkyBox Labs   \n",
       "Age of Wonders III.html                                          Triumph Studios   \n",
       "Aim Hero.html                                                    ProGames Studio   \n",
       "Airport CEO.html                                                Apoapsis Studios   \n",
       "Airships, Conquer the Skies.html                                     David Stark   \n",
       "Alan Wake's American Nightmare.html                         Remedy Entertainment   \n",
       "Aliens versus Predator Classic 2000.html                               Rebellion   \n",
       "Aliens vs. Predator™.html                                              Rebellion   \n",
       "Amazing Frog,.html                                                         Fayju   \n",
       "...                                                                          ...   \n",
       "Worms W.M.D.html                                              Team17 Digital Ltd   \n",
       "Wurm Unlimited.html                                                 Code Club AB   \n",
       "X Rebirth.html                                                           Egosoft   \n",
       "X-COM, UFO Defense.html                                 MicroProse Software, Inc   \n",
       "X-Plane 11.html                                                 Laminar Research   \n",
       "X3, Terran Conflict.html                                                 Egosoft   \n",
       "XCOM® 2.html                                                       Firaxis Games   \n",
       "Xenonauts.html                                              Goldhawk Interactive   \n",
       "Yet Another Zombie Defense.html                             Awesome Games Studio   \n",
       "Yonder, The Cloud Catcher Chronicles.html                         Prideful Sloth   \n",
       "Yooka-Laylee.html                                                Playtonic Games   \n",
       "Youtubers Life.html                                                U-Play Online   \n",
       "Ys I &amp; II Chronicles+.html                                      Nihon Falcom   \n",
       "Ys Origin.html                                                      Nihon Falcom   \n",
       "Yu-Gi-Oh! Duel Links.html                           Konami Digital Entertainment   \n",
       "Yu-Gi-Oh! Legacy of the Duelist.html                     Other Ocean Interactive   \n",
       "Zenge.html                                                      Michal Pawlowski   \n",
       "Zeno Clash.html                                                         ACE Team   \n",
       "Ziggurat.html                                                  Milkstone Studios   \n",
       "ZOMBI.html                                                        Straight Right   \n",
       "Zombidle , REMONSTERED.html                                       Berzerk Studio   \n",
       "Zombie Army Trilogy.html                                               Rebellion   \n",
       "Zombie Defense.html                                               Home Net Games   \n",
       "Zula - Europe.html                                                 Madbyte Games   \n",
       "Zup! 2.html                                                          Quiet River   \n",
       "Zup! 3.html                                                          Quiet River   \n",
       "Zup! Zero.html                                                       Quiet River   \n",
       "Zup!.html                                                            Quiet River   \n",
       "侠客风云传(Tale of Wuxia).html                                           Heluo Studio   \n",
       "東方天空璋 ～ Hidden Star in Four Seasons..html                               上海アリス幻樂団   \n",
       "\n",
       "                                                                            izdajatelj  \\\n",
       "ime                                                                                      \n",
       "100% Orange Juice.html                                                Fruitbat Factory   \n",
       "12 is Better Than 6.html                                             HypeTrain Digital   \n",
       "20XX.html                                                          Batterystaple Games   \n",
       "60 Seconds!.html                                                       Robot Gentleman   \n",
       "8-Bit Armies.html                                                           Petroglyph   \n",
       "911 Operator.html                                                      Games Operators   \n",
       "A Bird Story.html                                                       Freebird Games   \n",
       "A Hat in Time.html                                                 Gears for Breakfast   \n",
       "A Story About My Uncle.html                                    Coffee Stain Publishing   \n",
       "Aberoth.html                                                                    Jarbit   \n",
       "Absolver.html                                                         Devolver Digital   \n",
       "ABZU.html                                                                    505 Games   \n",
       "Ace Combat Assault Horizon - Enhanced Edition.html          BANDAI NAMCO Entertainment   \n",
       "Act of Aggression - Reboot Edition.html                         Focus Home Interactive   \n",
       "AdVenture Capitalist.html                                            Hyper Hippo Games   \n",
       "AdVenture Communist.html                                             Hyper Hippo Games   \n",
       "AdventureQuest 3D.html                                        Artix Entertainment, LLC   \n",
       "Agarest, Generations of War.html                                        Ghostlight LTD   \n",
       "Age of Conquest IV.html                                               Noble Master LLC   \n",
       "Age of Empires II HD.html                                            Microsoft Studios   \n",
       "Age of Empires® III, Complete Collection.html                        Microsoft Studios   \n",
       "Age of Mythology, Extended Edition.html                              Microsoft Studios   \n",
       "Age of Wonders III.html                                            Paradox Interactive   \n",
       "Aim Hero.html                                                          ProGames Studio   \n",
       "Airport CEO.html                                                      Apoapsis Studios   \n",
       "Airships, Conquer the Skies.html                                           David Stark   \n",
       "Alan Wake's American Nightmare.html                               Remedy Entertainment   \n",
       "Aliens versus Predator Classic 2000.html                                     Rebellion   \n",
       "Aliens vs. Predator™.html                                                         SEGA   \n",
       "Amazing Frog,.html                                                               Fayju   \n",
       "...                                                                                ...   \n",
       "Worms W.M.D.html                                                    Team17 Digital Ltd   \n",
       "Wurm Unlimited.html                                                    Plug In Digital   \n",
       "X Rebirth.html                                                                 Egosoft   \n",
       "X-COM, UFO Defense.html                                                             2K   \n",
       "X-Plane 11.html                                                       Laminar Research   \n",
       "X3, Terran Conflict.html                                                       Egosoft   \n",
       "XCOM® 2.html                                                                        2K   \n",
       "Xenonauts.html                                                    Goldhawk Interactive   \n",
       "Yet Another Zombie Defense.html                                   Awesome Games Studio   \n",
       "Yonder, The Cloud Catcher Chronicles.html                               Prideful Sloth   \n",
       "Yooka-Laylee.html                                                   Team17 Digital Ltd   \n",
       "Youtubers Life.html                                                      U-Play Online   \n",
       "Ys I &amp; II Chronicles+.html                                             XSEED Games   \n",
       "Ys Origin.html                                                             XSEED Games   \n",
       "Yu-Gi-Oh! Duel Links.html                                 Konami Digital Entertainment   \n",
       "Yu-Gi-Oh! Legacy of the Duelist.html                Konami Digital Entertainment, Inc.   \n",
       "Zenge.html                                                       Hamster On Coke Games   \n",
       "Zeno Clash.html                                                               ACE Team   \n",
       "Ziggurat.html                                                        Milkstone Studios   \n",
       "ZOMBI.html                                                                     Ubisoft   \n",
       "Zombidle , REMONSTERED.html                                             Berzerk Studio   \n",
       "Zombie Army Trilogy.html                                                     Rebellion   \n",
       "Zombie Defense.html                                                     Home Net Games   \n",
       "Zula - Europe.html                                                           IDC/Games   \n",
       "Zup! 2.html                                                                Quiet River   \n",
       "Zup! 3.html                                                                Quiet River   \n",
       "Zup! Zero.html                                                             Quiet River   \n",
       "Zup!.html                                                                  Quiet River   \n",
       "侠客风云传(Tale of Wuxia).html                                               Fenghuang Game   \n",
       "東方天空璋 ～ Hidden Star in Four Seasons..html                         Mediascape Co., Ltd.   \n",
       "\n",
       "                                                       RAM  prostor  \n",
       "ime                                                                  \n",
       "100% Orange Juice.html                              1024.0   1024.0  \n",
       "12 is Better Than 6.html                            2048.0    300.0  \n",
       "20XX.html                                           1024.0   1024.0  \n",
       "60 Seconds!.html                                    4096.0   3072.0  \n",
       "8-Bit Armies.html                                   4096.0   2048.0  \n",
       "911 Operator.html                                   1024.0    500.0  \n",
       "A Bird Story.html                                   2048.0    200.0  \n",
       "A Hat in Time.html                                  4096.0   5120.0  \n",
       "A Story About My Uncle.html                         2048.0   2048.0  \n",
       "Aberoth.html                                         256.0    200.0  \n",
       "Absolver.html                                       4096.0  11264.0  \n",
       "ABZU.html                                           4096.0   6144.0  \n",
       "Ace Combat Assault Horizon - Enhanced Edition.html     NaN      NaN  \n",
       "Act of Aggression - Reboot Edition.html             2048.0  15360.0  \n",
       "AdVenture Capitalist.html                            512.0     60.0  \n",
       "AdVenture Communist.html                             512.0     60.0  \n",
       "AdventureQuest 3D.html                              1024.0    500.0  \n",
       "Agarest, Generations of War.html                    1024.0   5120.0  \n",
       "Age of Conquest IV.html                              512.0    256.0  \n",
       "Age of Empires II HD.html                              NaN      NaN  \n",
       "Age of Empires® III, Complete Collection.html          NaN      NaN  \n",
       "Age of Mythology, Extended Edition.html             1024.0   3072.0  \n",
       "Age of Wonders III.html                             2048.0  10240.0  \n",
       "Aim Hero.html                                       2048.0    350.0  \n",
       "Airport CEO.html                                    2048.0   2048.0  \n",
       "Airships, Conquer the Skies.html                     256.0   1024.0  \n",
       "Alan Wake's American Nightmare.html                    NaN      NaN  \n",
       "Aliens versus Predator Classic 2000.html               NaN      NaN  \n",
       "Aliens vs. Predator™.html                              NaN      NaN  \n",
       "Amazing Frog,.html                                  4096.0   1024.0  \n",
       "...                                                    ...      ...  \n",
       "Worms W.M.D.html                                       NaN      NaN  \n",
       "Wurm Unlimited.html                                 4096.0   3000.0  \n",
       "X Rebirth.html                                      4096.0   8192.0  \n",
       "X-COM, UFO Defense.html                                NaN      NaN  \n",
       "X-Plane 11.html                                     8192.0  20480.0  \n",
       "X3, Terran Conflict.html                               NaN      NaN  \n",
       "XCOM® 2.html                                        4096.0  46080.0  \n",
       "Xenonauts.html                                         NaN      NaN  \n",
       "Yet Another Zombie Defense.html                     1024.0     50.0  \n",
       "Yonder, The Cloud Catcher Chronicles.html           6144.0   4096.0  \n",
       "Yooka-Laylee.html                                   8192.0   9216.0  \n",
       "Youtubers Life.html                                 2048.0   3072.0  \n",
       "Ys I &amp; II Chronicles+.html                         NaN      NaN  \n",
       "Ys Origin.html                                         NaN      NaN  \n",
       "Yu-Gi-Oh! Duel Links.html                           2048.0   4096.0  \n",
       "Yu-Gi-Oh! Legacy of the Duelist.html                2048.0   2048.0  \n",
       "Zenge.html                                          1024.0    160.0  \n",
       "Zeno Clash.html                                        NaN      NaN  \n",
       "Ziggurat.html                                       2048.0    800.0  \n",
       "ZOMBI.html                                          4096.0  25600.0  \n",
       "Zombidle , REMONSTERED.html                          500.0    150.0  \n",
       "Zombie Army Trilogy.html                            2048.0  15360.0  \n",
       "Zombie Defense.html                                  512.0    200.0  \n",
       "Zula - Europe.html                                  2048.0   1024.0  \n",
       "Zup! 2.html                                          256.0     15.0  \n",
       "Zup! 3.html                                          256.0     15.0  \n",
       "Zup! Zero.html                                       256.0     15.0  \n",
       "Zup!.html                                            256.0     15.0  \n",
       "侠客风云传(Tale of Wuxia).html                           2048.0  20480.0  \n",
       "東方天空璋 ～ Hidden Star in Four Seasons..html           1024.0    600.0  \n",
       "\n",
       "[1199 rows x 8 columns]"
      ]
     },
     "execution_count": 4,
     "metadata": {},
     "output_type": "execute_result"
    }
   ],
   "source": [
    "igre"
   ]
  },
  {
   "cell_type": "code",
   "execution_count": 5,
   "metadata": {
    "collapsed": true
   },
   "outputs": [],
   "source": [
    "%matplotlib inline"
   ]
  },
  {
   "cell_type": "code",
   "execution_count": 6,
   "metadata": {
    "collapsed": true
   },
   "outputs": [],
   "source": [
    "igre['skupine_cen'] = 5 * (((igre['cena'] - 1) // 5) + 1)"
   ]
  },
  {
   "cell_type": "markdown",
   "metadata": {},
   "source": [
    "Ustvari skupine cen, vsaka skupina ima razpon 5€. Zastonj igre so v svoji skupini.\n",
    "Spodnji graf prikazuje število iger v posameznem cenovnem razredu."
   ]
  },
  {
   "cell_type": "code",
   "execution_count": 7,
   "metadata": {},
   "outputs": [
    {
     "data": {
      "text/plain": [
       "<matplotlib.axes._subplots.AxesSubplot at 0x16de14d9f60>"
      ]
     },
     "execution_count": 7,
     "metadata": {},
     "output_type": "execute_result"
    },
    {
     "data": {
      "image/png": "[encoded data removed]",
      "text/plain": [
       "<matplotlib.figure.Figure at 0x16de14d9390>"
      ]
     },
     "metadata": {},
     "output_type": "display_data"
    }
   ],
   "source": [
    "igre.groupby('skupine_cen').size().plot.line()"
   ]
  },
  {
   "cell_type": "code",
   "execution_count": 8,
   "metadata": {
    "collapsed": true
   },
   "outputs": [],
   "source": [
    "tabela1 = zanri.join(igre, on='ime')\n",
    "tabela2 = kategorije.join(igre, on='ime')"
   ]
  },
  {
   "cell_type": "markdown",
   "metadata": {},
   "source": [
    "## Analiza glede na žanre"
   ]
  },
  {
   "cell_type": "code",
   "execution_count": 9,
   "metadata": {},
   "outputs": [
    {
     "data": {
      "text/plain": [
       "zanr\n",
       "Sports                    51\n",
       "Racing                    52\n",
       "Early Access              94\n",
       "Massively Multiplayer    105\n",
       "Free to Play             148\n",
       "Casual                   170\n",
       "Simulation               263\n",
       "RPG                      306\n",
       "Strategy                 327\n",
       "Adventure                409\n",
       "Action                   601\n",
       "Indie                    613\n",
       "dtype: int64"
      ]
     },
     "execution_count": 9,
     "metadata": {},
     "output_type": "execute_result"
    }
   ],
   "source": [
    "tabela1.groupby('zanr').size().sort_values()"
   ]
  },
  {
   "cell_type": "markdown",
   "metadata": {},
   "source": [
    "Pričakovano je največ iger akcijskih (žanr \"Indie\" se nanaša na majhnega, neodvisnega razvijalca igre, ne pa na njeno vsebino).\n",
    "Čudi me veliko število strateških in simulacijskih iger. Pričakoval bi, da bo teh manj od recimo dirkaških iger."
   ]
  },
  {
   "cell_type": "code",
   "execution_count": 10,
   "metadata": {
    "scrolled": false
   },
   "outputs": [
    {
     "data": {
      "text/plain": [
       "<matplotlib.axes._subplots.AxesSubplot at 0x16de16414a8>"
      ]
     },
     "execution_count": 10,
     "metadata": {},
     "output_type": "execute_result"
    },
    {
     "data": {
      "image/png": "[encoded data removed]",
      "text/plain": [
       "<matplotlib.figure.Figure at 0x16de1634908>"
      ]
     },
     "metadata": {},
     "output_type": "display_data"
    }
   ],
   "source": [
    "tabela1.groupby('zanr').mean().plot.bar(y='stevilo_ocen')"
   ]
  },
  {
   "cell_type": "code",
   "execution_count": 11,
   "metadata": {},
   "outputs": [
    {
     "data": {
      "text/plain": [
       "<matplotlib.axes._subplots.AxesSubplot at 0x16de17c60b8>"
      ]
     },
     "execution_count": 11,
     "metadata": {},
     "output_type": "execute_result"
    },
    {
     "data": {
      "image/png": "[encoded data removed]",
      "text/plain": [
       "<matplotlib.figure.Figure at 0x16de17b3b38>"
      ]
     },
     "metadata": {},
     "output_type": "display_data"
    }
   ],
   "source": [
    "tabela1.boxplot(column=['stevilo_ocen'], by='zanr', showfliers=False, vert=False)"
   ]
  },
  {
   "cell_type": "markdown",
   "metadata": {},
   "source": [
    "Najbolj popularen žanr (glede na vsebino igre) je akcijski (ta ima največje povprečje števila ocen). A iz grafa s škatlami z brki je razvidno, da je za to zasluženih le nekaj posebno popularnih akcijskih iger. Mediana števila glasov namreč ni posebno velika. \n",
    "\n",
    "Pri mediani bolj izstopajo zastonj igre ('Free to Play') in 'Massive Multiplayer', to so igre, namenjene predvsem večigralski igri (denimo Call of Duty). Ta žanra se sicer ne nanašata na vsebino. Zastonj igre so pričakovano zelo priljubljene, tu bi mogoče bolj smiselno bilo preučevati čas igranja takih iger (ki ga ne morem dobiti). Možno je, da večina ljudi zastonj igre zgolj poskusi, ker nimajo zgubiti drugega kot svoj čas."
   ]
  },
  {
   "cell_type": "code",
   "execution_count": 12,
   "metadata": {},
   "outputs": [
    {
     "data": {
      "text/plain": [
       "<matplotlib.axes._subplots.AxesSubplot at 0x16de1a7b8d0>"
      ]
     },
     "execution_count": 12,
     "metadata": {},
     "output_type": "execute_result"
    },
    {
     "data": {
      "image/png": "[encoded data removed]",
      "text/plain": [
       "<matplotlib.figure.Figure at 0x16de1a29ac8>"
      ]
     },
     "metadata": {},
     "output_type": "display_data"
    }
   ],
   "source": [
    "tabela1.groupby('zanr').mean().plot.bar(y='odstotek')"
   ]
  },
  {
   "cell_type": "markdown",
   "metadata": {},
   "source": [
    "Pri kakovosti iger (gledano glede na delež dobrih odzivov) so si žanri dokaj enakovredni. Malo odstopajo le zastonj igre (ponovno, nič čudnega, saj kakovostne igre navadno niso zastonj) in večigralske ('Massively Multiplayer'), mogoče zato, ker je v teh igrah težje biti dober, posledično pa večje število nezadovoljnih ljudi (ker jim igranje ne gre od rok) da slabo oceno."
   ]
  },
  {
   "cell_type": "code",
   "execution_count": 13,
   "metadata": {},
   "outputs": [
    {
     "data": {
      "text/plain": [
       "<matplotlib.axes._subplots.AxesSubplot at 0x16de18652e8>"
      ]
     },
     "execution_count": 13,
     "metadata": {},
     "output_type": "execute_result"
    },
    {
     "data": {
      "image/png": "[encoded data removed]",
      "text/plain": [
       "<matplotlib.figure.Figure at 0x16de2b23908>"
      ]
     },
     "metadata": {},
     "output_type": "display_data"
    }
   ],
   "source": [
    "tabela1.groupby('zanr').mean().plot.bar(y='cena')"
   ]
  },
  {
   "cell_type": "markdown",
   "metadata": {},
   "source": [
    "Graf prikazuje povprečno ceno igre glede na žanr. Mogoče tu tuči razlog za manjšo popularnost dirkaških in športnih iger."
   ]
  },
  {
   "cell_type": "code",
   "execution_count": 14,
   "metadata": {
    "scrolled": true
   },
   "outputs": [
    {
     "data": {
      "text/plain": [
       "<matplotlib.axes._subplots.AxesSubplot at 0x16de2ac6a90>"
      ]
     },
     "execution_count": 14,
     "metadata": {},
     "output_type": "execute_result"
    },
    {
     "data": {
      "image/png": "[encoded data removed]",
      "text/plain": [
       "<matplotlib.figure.Figure at 0x16de2ba1be0>"
      ]
     },
     "metadata": {},
     "output_type": "display_data"
    }
   ],
   "source": [
    "tabela1.groupby('zanr').mean().plot.bar(y='RAM')"
   ]
  },
  {
   "cell_type": "code",
   "execution_count": 15,
   "metadata": {},
   "outputs": [
    {
     "data": {
      "text/plain": [
       "<matplotlib.axes._subplots.AxesSubplot at 0x16de1290438>"
      ]
     },
     "execution_count": 15,
     "metadata": {},
     "output_type": "execute_result"
    },
    {
     "data": {
      "image/png": "[encoded data removed]",
      "text/plain": [
       "<matplotlib.figure.Figure at 0x16de2c4d198>"
      ]
     },
     "metadata": {},
     "output_type": "display_data"
    }
   ],
   "source": [
    "tabela1.groupby('zanr').mean().plot.bar(y='leto', ylim=[1980, 2020])"
   ]
  },
  {
   "cell_type": "markdown",
   "metadata": {},
   "source": [
    "'Early Access' igre (to so igre, ki jih je mogoče kupiti po nižji ceni, še preden so dokončno dodelane) izstopajo pri zahtevnosti RAMa. Mislil sem, da je vzrok v tem, da so te igre relativno nove, saj jih je potrebno stalno posodabljati, to pa je pred časom bilo zahtevnejše zaradi počasnejše internetne povezave. A graf, ki prikazuje povprečno starost iger, tega ne podpira. Razlike so komaj opazne."
   ]
  },
  {
   "cell_type": "markdown",
   "metadata": {},
   "source": [
    "### Ali sta popularnost in ocene iger odvisna od cene?"
   ]
  },
  {
   "cell_type": "code",
   "execution_count": 16,
   "metadata": {},
   "outputs": [
    {
     "data": {
      "text/plain": [
       "<matplotlib.axes._subplots.AxesSubplot at 0x16de0c58be0>"
      ]
     },
     "execution_count": 16,
     "metadata": {},
     "output_type": "execute_result"
    },
    {
     "data": {
      "image/png": "[encoded data removed]",
      "text/plain": [
       "<matplotlib.figure.Figure at 0x16de2da40b8>"
      ]
     },
     "metadata": {},
     "output_type": "display_data"
    }
   ],
   "source": [
    "igre.groupby('skupine_cen').median().plot.line(y='stevilo_ocen')"
   ]
  },
  {
   "cell_type": "code",
   "execution_count": 17,
   "metadata": {},
   "outputs": [
    {
     "data": {
      "text/plain": [
       "<matplotlib.axes._subplots.AxesSubplot at 0x16de2e70198>"
      ]
     },
     "execution_count": 17,
     "metadata": {},
     "output_type": "execute_result"
    },
    {
     "data": {
      "image/png": "[encoded data removed]",
      "text/plain": [
       "<matplotlib.figure.Figure at 0x16de2e7bb38>"
      ]
     },
     "metadata": {},
     "output_type": "display_data"
    }
   ],
   "source": [
    "igre.groupby('skupine_cen').median().plot.line(y='odstotek')"
   ]
  },
  {
   "cell_type": "markdown",
   "metadata": {},
   "source": [
    "Z izjemo velikega skoka pri ceno 60€ iz zelo dragih iger (nad 60€) razlik med popularnostjo iger pri različnih cenah ni. Delež dobrih ocen prav tako upade pri dražjih igrah, verjetno zato, ker igralci od dražjih iger pričakujejo mnogo več.\n",
    "Poglejmo, katere igre so v cenovnem razredu 60€."
   ]
  },
  {
   "cell_type": "code",
   "execution_count": 18,
   "metadata": {},
   "outputs": [
    {
     "data": {
      "text/html": [
       "<div>\n",
       "<style>\n",
       "    .dataframe thead tr:only-child th {\n",
       "        text-align: right;\n",
       "    }\n",
       "\n",
       "    .dataframe thead th {\n",
       "        text-align: left;\n",
       "    }\n",
       "\n",
       "    .dataframe tbody tr th {\n",
       "        vertical-align: top;\n",
       "    }\n",
       "</style>\n",
       "<table border=\"1\" class=\"dataframe\">\n",
       "  <thead>\n",
       "    <tr style=\"text-align: right;\">\n",
       "      <th></th>\n",
       "      <th>leto</th>\n",
       "      <th>odstotek</th>\n",
       "      <th>stevilo_ocen</th>\n",
       "      <th>cena</th>\n",
       "      <th>razvijalec</th>\n",
       "      <th>izdajatelj</th>\n",
       "      <th>RAM</th>\n",
       "      <th>prostor</th>\n",
       "      <th>skupine_cen</th>\n",
       "    </tr>\n",
       "    <tr>\n",
       "      <th>ime</th>\n",
       "      <th></th>\n",
       "      <th></th>\n",
       "      <th></th>\n",
       "      <th></th>\n",
       "      <th></th>\n",
       "      <th></th>\n",
       "      <th></th>\n",
       "      <th></th>\n",
       "      <th></th>\n",
       "    </tr>\n",
       "  </thead>\n",
       "  <tbody>\n",
       "    <tr>\n",
       "      <th>ARK, Survival Evolved.html</th>\n",
       "      <td>2017</td>\n",
       "      <td>68</td>\n",
       "      <td>151140</td>\n",
       "      <td>59.99</td>\n",
       "      <td>Studio Wildcard</td>\n",
       "      <td>Studio Wildcard</td>\n",
       "      <td>8192.0</td>\n",
       "      <td>61440.0</td>\n",
       "      <td>60.0</td>\n",
       "    </tr>\n",
       "    <tr>\n",
       "      <th>Assassin's Creed® Origins.html</th>\n",
       "      <td>2017</td>\n",
       "      <td>84</td>\n",
       "      <td>27579</td>\n",
       "      <td>59.99</td>\n",
       "      <td>Ubisoft Montreal</td>\n",
       "      <td>Ubisoft</td>\n",
       "      <td>6144.0</td>\n",
       "      <td>43008.0</td>\n",
       "      <td>60.0</td>\n",
       "    </tr>\n",
       "    <tr>\n",
       "      <th>DARK SOULS™ III.html</th>\n",
       "      <td>2016</td>\n",
       "      <td>90</td>\n",
       "      <td>57730</td>\n",
       "      <td>59.99</td>\n",
       "      <td>FromSoftware, Inc.</td>\n",
       "      <td>FromSoftware, Inc.</td>\n",
       "      <td>4096.0</td>\n",
       "      <td>25600.0</td>\n",
       "      <td>60.0</td>\n",
       "    </tr>\n",
       "    <tr>\n",
       "      <th>Project CARS 2.html</th>\n",
       "      <td>2017</td>\n",
       "      <td>69</td>\n",
       "      <td>2825</td>\n",
       "      <td>59.99</td>\n",
       "      <td>Slightly Mad Studios</td>\n",
       "      <td>BANDAI NAMCO Entertainment</td>\n",
       "      <td>8192.0</td>\n",
       "      <td>51200.0</td>\n",
       "      <td>60.0</td>\n",
       "    </tr>\n",
       "    <tr>\n",
       "      <th>Tom Clancy's Ghost Recon® Wildlands.html</th>\n",
       "      <td>2017</td>\n",
       "      <td>73</td>\n",
       "      <td>22811</td>\n",
       "      <td>59.99</td>\n",
       "      <td>Ubisoft Paris</td>\n",
       "      <td>Ubisoft</td>\n",
       "      <td>6144.0</td>\n",
       "      <td>51200.0</td>\n",
       "      <td>60.0</td>\n",
       "    </tr>\n",
       "    <tr>\n",
       "      <th>Total War, WARHAMMER II.html</th>\n",
       "      <td>2017</td>\n",
       "      <td>86</td>\n",
       "      <td>9428</td>\n",
       "      <td>59.99</td>\n",
       "      <td>CREATIVE ASSEMBLY</td>\n",
       "      <td>SEGA</td>\n",
       "      <td>5120.0</td>\n",
       "      <td>61440.0</td>\n",
       "      <td>60.0</td>\n",
       "    </tr>\n",
       "    <tr>\n",
       "      <th>Total War, WARHAMMER.html</th>\n",
       "      <td>2016</td>\n",
       "      <td>75</td>\n",
       "      <td>22176</td>\n",
       "      <td>59.99</td>\n",
       "      <td>CREATIVE ASSEMBLY</td>\n",
       "      <td>SEGA</td>\n",
       "      <td>3072.0</td>\n",
       "      <td>35840.0</td>\n",
       "      <td>60.0</td>\n",
       "    </tr>\n",
       "    <tr>\n",
       "      <th>Watch_Dogs® 2.html</th>\n",
       "      <td>2016</td>\n",
       "      <td>80</td>\n",
       "      <td>19155</td>\n",
       "      <td>59.99</td>\n",
       "      <td>Ubisoft</td>\n",
       "      <td>Ubisoft</td>\n",
       "      <td>6144.0</td>\n",
       "      <td>27648.0</td>\n",
       "      <td>60.0</td>\n",
       "    </tr>\n",
       "  </tbody>\n",
       "</table>\n",
       "</div>"
      ],
      "text/plain": [
       "                                          leto  odstotek  stevilo_ocen   cena  \\\n",
       "ime                                                                             \n",
       "ARK, Survival Evolved.html                2017        68        151140  59.99   \n",
       "Assassin's Creed® Origins.html            2017        84         27579  59.99   \n",
       "DARK SOULS™ III.html                      2016        90         57730  59.99   \n",
       "Project CARS 2.html                       2017        69          2825  59.99   \n",
       "Tom Clancy's Ghost Recon® Wildlands.html  2017        73         22811  59.99   \n",
       "Total War, WARHAMMER II.html              2017        86          9428  59.99   \n",
       "Total War, WARHAMMER.html                 2016        75         22176  59.99   \n",
       "Watch_Dogs® 2.html                        2016        80         19155  59.99   \n",
       "\n",
       "                                                    razvijalec  \\\n",
       "ime                                                              \n",
       "ARK, Survival Evolved.html                     Studio Wildcard   \n",
       "Assassin's Creed® Origins.html                Ubisoft Montreal   \n",
       "DARK SOULS™ III.html                        FromSoftware, Inc.   \n",
       "Project CARS 2.html                       Slightly Mad Studios   \n",
       "Tom Clancy's Ghost Recon® Wildlands.html         Ubisoft Paris   \n",
       "Total War, WARHAMMER II.html                 CREATIVE ASSEMBLY   \n",
       "Total War, WARHAMMER.html                    CREATIVE ASSEMBLY   \n",
       "Watch_Dogs® 2.html                                     Ubisoft   \n",
       "\n",
       "                                                          izdajatelj     RAM  \\\n",
       "ime                                                                            \n",
       "ARK, Survival Evolved.html                           Studio Wildcard  8192.0   \n",
       "Assassin's Creed® Origins.html                               Ubisoft  6144.0   \n",
       "DARK SOULS™ III.html                              FromSoftware, Inc.  4096.0   \n",
       "Project CARS 2.html                       BANDAI NAMCO Entertainment  8192.0   \n",
       "Tom Clancy's Ghost Recon® Wildlands.html                     Ubisoft  6144.0   \n",
       "Total War, WARHAMMER II.html                                    SEGA  5120.0   \n",
       "Total War, WARHAMMER.html                                       SEGA  3072.0   \n",
       "Watch_Dogs® 2.html                                           Ubisoft  6144.0   \n",
       "\n",
       "                                          prostor  skupine_cen  \n",
       "ime                                                             \n",
       "ARK, Survival Evolved.html                61440.0         60.0  \n",
       "Assassin's Creed® Origins.html            43008.0         60.0  \n",
       "DARK SOULS™ III.html                      25600.0         60.0  \n",
       "Project CARS 2.html                       51200.0         60.0  \n",
       "Tom Clancy's Ghost Recon® Wildlands.html  51200.0         60.0  \n",
       "Total War, WARHAMMER II.html              61440.0         60.0  \n",
       "Total War, WARHAMMER.html                 35840.0         60.0  \n",
       "Watch_Dogs® 2.html                        27648.0         60.0  "
      ]
     },
     "execution_count": 18,
     "metadata": {},
     "output_type": "execute_result"
    }
   ],
   "source": [
    "igre[igre['skupine_cen']==60]"
   ]
  },
  {
   "cell_type": "markdown",
   "metadata": {},
   "source": [
    "Kot lahko vidimo je v cenovnem razredu 60€ nekaj zelo priljubljenih iger. Verjetno zgolj naključje.\n",
    "Pomanjkanje vzorca potrjuje spodnji graf. Na x-osi je cena igre (igre, dražje od 70€, so zaradi preglednosti izpuščene), na y-osi pa število ocen v logaritemskem merilu. Vidimo lahko, da je posebnost cenovnega razreda 60€ le ta, da nima nobene igre z zelo majhnim številom ocen."
   ]
  },
  {
   "cell_type": "code",
   "execution_count": 19,
   "metadata": {},
   "outputs": [
    {
     "data": {
      "text/plain": [
       "<matplotlib.axes._subplots.AxesSubplot at 0x16de1a0c5f8>"
      ]
     },
     "execution_count": 19,
     "metadata": {},
     "output_type": "execute_result"
    },
    {
     "data": {
      "image/png": "[encoded data removed]",
      "text/plain": [
       "<matplotlib.figure.Figure at 0x16de2be7128>"
      ]
     },
     "metadata": {},
     "output_type": "display_data"
    }
   ],
   "source": [
    "igre.plot.scatter(x='cena', y='stevilo_ocen', xlim=[-1, 70], logy=True)"
   ]
  },
  {
   "cell_type": "markdown",
   "metadata": {},
   "source": [
    "## Analiza glede na razvijalce in izdajatelje iger"
   ]
  },
  {
   "cell_type": "code",
   "execution_count": 20,
   "metadata": {},
   "outputs": [
    {
     "data": {
      "text/plain": [
       "razvijalec\n",
       "Valve                                                       21\n",
       "Ubisoft Montreal                                            11\n",
       "Firaxis Games                                                8\n",
       "Double Fine Productions                                      7\n",
       "CREATIVE ASSEMBLY                                            7\n",
       "id Software                                                  7\n",
       "Daedalic Entertainment                                       7\n",
       "Rebellion                                                    7\n",
       "Telltale Games                                               6\n",
       "Team17 Digital Ltd                                           6\n",
       "Traveller's Tales                                            6\n",
       "Idea Factory                                                 6\n",
       "Paradox Development Studio                                   6\n",
       "Bethesda Game Studios                                        5\n",
       "BioWare                                                      5\n",
       "LucasArts                                                    5\n",
       "Croteam                                                      5\n",
       "Scott Cawthon                                                5\n",
       "FireFly Studios                                              5\n",
       "Ubisoft                                                      5\n",
       "Piranha Bytes                                                5\n",
       "Eugen Systems                                                5\n",
       "Quiet River                                                  4\n",
       "Codemasters                                                  4\n",
       "EA Los Angeles                                               4\n",
       "Larian Studios                                               4\n",
       "Haemimont Games                                              4\n",
       "Obsidian Entertainment                                       4\n",
       "Infinity Ward                                                4\n",
       "Gearbox Software                                             4\n",
       "                                                            ..\n",
       "Monomi Park                                                  1\n",
       "Monolith                                                     1\n",
       "Mohawk Games                                                 1\n",
       "Modern Visual Arts Laboratory                                1\n",
       "MiniBoss                                                     1\n",
       "Netcore Games                                                1\n",
       "NeuronHaze                                                   1\n",
       "Onyx Lute                                                    1\n",
       "NotGames                                                     1\n",
       "Olli Harjola, Otto Hantula, Tom Jubert, Carlo Castellano     1\n",
       "Oleg Sergeev                                                 1\n",
       "Old B1ood                                                    1\n",
       "OhNoo Studio                                                 1\n",
       "Offworld Industries                                          1\n",
       "Oddworld Inhabitants                                         1\n",
       "Nvizzio Creations                                            1\n",
       "Number None                                                  1\n",
       "Numantian Games                                              1\n",
       "Nomad Games                                                  1\n",
       "Nicalis, Inc.                                                1\n",
       "Nom Nom Games                                                1\n",
       "Noble Master LLC                                             1\n",
       "Noble Empire Corp.                                           1\n",
       "Noah System                                                  1\n",
       "No Code                                                      1\n",
       "No Brakes Games                                              1\n",
       "Nippon Ichi Software, Inc.                                   1\n",
       "Ninja Theory                                                 1\n",
       "Night School Studio                                          1\n",
       "10tons Ltd                                                   1\n",
       "Length: 857, dtype: int64"
      ]
     },
     "execution_count": 20,
     "metadata": {},
     "output_type": "execute_result"
    }
   ],
   "source": [
    "razvijalci = igre.groupby('razvijalec').size().sort_values(ascending=False)\n",
    "razvijalci"
   ]
  },
  {
   "cell_type": "code",
   "execution_count": 21,
   "metadata": {},
   "outputs": [
    {
     "data": {
      "text/plain": [
       "izdajatelj\n",
       "Ubisoft                                         44\n",
       "SEGA                                            26\n",
       "Valve                                           24\n",
       "Electronic Arts                                 22\n",
       "Warner Bros. Interactive Entertainment          16\n",
       "BANDAI NAMCO Entertainment                      16\n",
       "Focus Home Interactive                          15\n",
       "Devolver Digital                                15\n",
       "THQ Nordic                                      14\n",
       "2K                                              13\n",
       "Paradox Interactive                             13\n",
       "LucasArts                                       12\n",
       "505 Games                                       11\n",
       "Team17 Digital Ltd                              10\n",
       "Microsoft Studios                               10\n",
       "Codemasters                                      9\n",
       "Square Enix                                      8\n",
       "Daedalic Entertainment                           8\n",
       "Capcom                                           8\n",
       "Bethesda Softworks                               8\n",
       "Double Fine Productions                          7\n",
       "Deep Silver                                      7\n",
       "Kalypso Media Digital                            7\n",
       "Rebellion                                        7\n",
       "tinyBuild                                        7\n",
       "Good Shepherd Entertainment                      6\n",
       "Telltale Games                                   6\n",
       "id Software                                      6\n",
       "Activision                                       6\n",
       "Scott Cawthon                                    5\n",
       "                                                ..\n",
       "Matt Makes Games Inc.                            1\n",
       "Maschinen-Mensch                                 1\n",
       "Masangsoft, Inc.                                 1\n",
       "Marvelous                                        1\n",
       "Messhof                                          1\n",
       "Marjupi Games                                    1\n",
       "MangaGamer                                       1\n",
       "Madruga Works                                    1\n",
       "Mad Otter Games                                  1\n",
       "Mad Dog Games, LLC                               1\n",
       "MOVE ON USA CO.                                  1\n",
       "Merixgames                                       1\n",
       "Metanet Software Inc.                            1\n",
       "NVLMaker                                         1\n",
       "Murudai                                          1\n",
       "NTTGame                                          1\n",
       "NIS America, Inc.                                1\n",
       "NEOWIZ                                           1\n",
       "NCSOFT                                           1\n",
       "My.com                                           1\n",
       "Muse Games                                       1\n",
       "MuHa Games                                       1\n",
       "Mi'pu'mi Games GmbH                              1\n",
       "Monomi Park                                      1\n",
       "Modern Visual Arts Laboratory                    1\n",
       "Missing Link Games                               1\n",
       "Microsoft                                        1\n",
       "Microblast Games                                 1\n",
       "Michael Todd Games                               1\n",
       " GungHo Online Entertainment America, Inc.\\t     1\n",
       "Length: 669, dtype: int64"
      ]
     },
     "execution_count": 21,
     "metadata": {},
     "output_type": "execute_result"
    }
   ],
   "source": [
    "izdajatelji = igre.groupby('izdajatelj').size().sort_values(ascending=False)\n",
    "izdajatelji"
   ]
  },
  {
   "cell_type": "markdown",
   "metadata": {},
   "source": [
    "Takoj vidimo, da je razvijalcev več kot izdajateljev. Nekateri majhni razvijalci izdajo igro pri večjih, znanih podjetjih, ki jo lahko bolje oglašujejo.\n",
    "\n",
    "Primerjajmo število ocen in ocene iger znanih in manj znanih (neodvisnih) razvijalcev oz. izdajateljev (žanr 'indie' = independent):"
   ]
  },
  {
   "cell_type": "code",
   "execution_count": 22,
   "metadata": {
    "collapsed": true
   },
   "outputs": [],
   "source": [
    "tabela1['zanr2'] = (tabela1['zanr']=='Indie')"
   ]
  },
  {
   "cell_type": "code",
   "execution_count": 23,
   "metadata": {},
   "outputs": [
    {
     "data": {
      "text/plain": [
       "<matplotlib.axes._subplots.AxesSubplot at 0x16de30b5dd8>"
      ]
     },
     "execution_count": 23,
     "metadata": {},
     "output_type": "execute_result"
    },
    {
     "data": {
      "image/png": "[encoded data removed]",
      "text/plain": [
       "<matplotlib.figure.Figure at 0x16de302cf98>"
      ]
     },
     "metadata": {},
     "output_type": "display_data"
    }
   ],
   "source": [
    "tabela1.groupby('zanr2').mean().plot.bar(y=['stevilo_ocen', 'odstotek'], secondary_y=('odstotek'))"
   ]
  },
  {
   "cell_type": "markdown",
   "metadata": {},
   "source": [
    "\"False\" so igre izven žanra 'Indie', \"True\" pa igre znotraj žanra.\n",
    "Pričakovano so igre znanih razvijalcev bolj znane (ravno zato so ti razvijalci znani). Delež dobrih ocen je rahlo večji pri neodvisnih razvijalcih. To me ne čudi. Igre neodvisnih razvijalcev pogosto ciljajo mnogo ožjo skupino igralcev kot igre znanih razvijalcev. Razvijalci se lahko zato bolj posvetijo nekaterim podrobnostim, ki se jim drugače ne bi mogli. Prav tako si manj znani razvijalci ne morejo privoščiti slabše igre, saj še nimajo znanega imena, ki bi jim igro prodalo samo od sebe.\n",
    "\n",
    "Enaka analiza na skupini zgolj velikih razvijalcev:"
   ]
  },
  {
   "cell_type": "code",
   "execution_count": 24,
   "metadata": {
    "collapsed": true
   },
   "outputs": [],
   "source": [
    "igre['moc_raz'] = 0\n",
    "igre['moc_izd'] = 0"
   ]
  },
  {
   "cell_type": "code",
   "execution_count": 25,
   "metadata": {
    "collapsed": true
   },
   "outputs": [],
   "source": [
    "for index, igra in igre.iterrows():\n",
    "    igre.at[index, 'moc_raz'] = razvijalci[igre.loc[index, 'razvijalec']]\n",
    "    igre.at[index, 'moc_izd'] = izdajatelji[igre.loc[index, 'izdajatelj']]"
   ]
  },
  {
   "cell_type": "markdown",
   "metadata": {},
   "source": [
    "Zgoraj: vsaki igri dopiše število vseh iger, ki so bile razvite oz. izdane z njenim razvijalcem oz. izdajateljem.\n",
    "Spodaj: omejimo se le na igre, katerih razvijalec oz. izdajatelj je na 10. mestu po številu svojih iger."
   ]
  },
  {
   "cell_type": "code",
   "execution_count": 26,
   "metadata": {
    "collapsed": true
   },
   "outputs": [],
   "source": [
    "izbor_raz = igre[igre['moc_raz'] >= razvijalci[9]]\n",
    "izbor_izd = igre[igre['moc_izd'] >= izdajatelji[9]]"
   ]
  },
  {
   "cell_type": "code",
   "execution_count": 27,
   "metadata": {},
   "outputs": [
    {
     "data": {
      "text/plain": [
       "<matplotlib.axes._subplots.AxesSubplot at 0x16de3512c88>"
      ]
     },
     "execution_count": 27,
     "metadata": {},
     "output_type": "execute_result"
    },
    {
     "data": {
      "image/png": "[encoded data removed]",
      "text/plain": [
       "<matplotlib.figure.Figure at 0x16de164def0>"
      ]
     },
     "metadata": {},
     "output_type": "display_data"
    },
    {
     "data": {
      "image/png": "[encoded data removed]",
      "text/plain": [
       "<matplotlib.figure.Figure at 0x16de32f1fd0>"
      ]
     },
     "metadata": {},
     "output_type": "display_data"
    }
   ],
   "source": [
    "izbor_raz.groupby('razvijalec').mean().plot.bar(y='stevilo_ocen', logy=True)\n",
    "izbor_raz.groupby('razvijalec').mean().plot.bar(y='odstotek', ylim=[50, 100])"
   ]
  },
  {
   "cell_type": "code",
   "execution_count": 28,
   "metadata": {},
   "outputs": [
    {
     "data": {
      "text/plain": [
       "<matplotlib.axes._subplots.AxesSubplot at 0x16de38387f0>"
      ]
     },
     "execution_count": 28,
     "metadata": {},
     "output_type": "execute_result"
    },
    {
     "data": {
      "image/png": "[encoded data removed]",
      "text/plain": [
       "<matplotlib.figure.Figure at 0x16de362a5f8>"
      ]
     },
     "metadata": {},
     "output_type": "display_data"
    },
    {
     "data": {
      "image/png": "[encoded data removed]",
      "text/plain": [
       "<matplotlib.figure.Figure at 0x16de35cdeb8>"
      ]
     },
     "metadata": {},
     "output_type": "display_data"
    }
   ],
   "source": [
    "izbor_raz.groupby('izdajatelj').mean().plot.bar(y='stevilo_ocen', logy=True)\n",
    "izbor_raz.groupby('izdajatelj').mean().plot.bar(y='odstotek', ylim=[50, 100])"
   ]
  },
  {
   "cell_type": "markdown",
   "metadata": {},
   "source": [
    "Valve je očitno daleč najbolj popularen, hkrati pa je tudi med najbolje ocenjenimi.\n",
    "Po številu ocen (popularnosti) naslednji trije razvijalci oz. izdajatelji pa so nasprotno povprečno ali podpovprečno ocenjeni.\n",
    "\n",
    "Večjih zaključkov ni mogoče narediti, ker so nekatere večje igre (denimo Grand Theft Auto) izključene iz analize zaradi vsebine, neprimerne za otroke (predvsem nasilja). Pri teh igrah spletna stran zahteva vnos datuma rojstva, zato Python ni mogel pobrati strani z njenim opisom.\n",
    "\n",
    "Primerjajmo med seboj še 'indie' in ostale igre glede na ceno ter zahtevano zmogljivost (RAM in trdi disk):"
   ]
  },
  {
   "cell_type": "code",
   "execution_count": 29,
   "metadata": {},
   "outputs": [
    {
     "data": {
      "text/plain": [
       "<matplotlib.axes._subplots.AxesSubplot at 0x16de362a630>"
      ]
     },
     "execution_count": 29,
     "metadata": {},
     "output_type": "execute_result"
    },
    {
     "data": {
      "image/png": "[encoded data removed]",
      "text/plain": [
       "<matplotlib.figure.Figure at 0x16de38c6d68>"
      ]
     },
     "metadata": {},
     "output_type": "display_data"
    }
   ],
   "source": [
    "tabela1.boxplot(column=['cena'], by='zanr2', showfliers=False, vert=False)"
   ]
  },
  {
   "cell_type": "code",
   "execution_count": 30,
   "metadata": {},
   "outputs": [
    {
     "data": {
      "text/plain": [
       "<matplotlib.axes._subplots.AxesSubplot at 0x16de34eb048>"
      ]
     },
     "execution_count": 30,
     "metadata": {},
     "output_type": "execute_result"
    },
    {
     "data": {
      "image/png": "[encoded data removed]",
      "text/plain": [
       "<matplotlib.figure.Figure at 0x16de3570160>"
      ]
     },
     "metadata": {},
     "output_type": "display_data"
    }
   ],
   "source": [
    "tabela1.groupby('zanr2').median().plot.bar(y=['RAM', 'prostor'], secondary_y=('odstotek'))"
   ]
  },
  {
   "cell_type": "markdown",
   "metadata": {},
   "source": [
    "Opazimo lahko, da so cene približno enake, z izjemo manjšega števila dražjih iger, ki niso v žanru 'indie'. To so velike igre z ogromno vsebine. To potrjuje tudi dejstvo, da igre izven žanra navadno potrebujejo več prostora na trdem disku (vidno iz zadnjega grafa). Večji razvijalski studiji si namreč lahko privoščijo zasnovati mnogo večje igre z bolj bogato vsebino.\n",
    "\n",
    "V RAMu razlik praktično ni. S tega bi se dalo sklepati, da se izgled in mehanika iger ne razlikujeta glede na žanr 'indie'."
   ]
  },
  {
   "cell_type": "markdown",
   "metadata": {},
   "source": [
    "### Ali se kakovost iger izboljšuje s časom?"
   ]
  },
  {
   "cell_type": "code",
   "execution_count": 31,
   "metadata": {},
   "outputs": [
    {
     "data": {
      "text/plain": [
       "<matplotlib.axes._subplots.AxesSubplot at 0x16de348b320>"
      ]
     },
     "execution_count": 31,
     "metadata": {},
     "output_type": "execute_result"
    },
    {
     "data": {
      "image/png": "[encoded data removed]",
      "text/plain": [
       "<matplotlib.figure.Figure at 0x16de3466da0>"
      ]
     },
     "metadata": {},
     "output_type": "display_data"
    }
   ],
   "source": [
    "igre.groupby('leto').median().plot.line(y='odstotek')"
   ]
  },
  {
   "cell_type": "markdown",
   "metadata": {},
   "source": [
    "Ne, kakovost pada."
   ]
  },
  {
   "cell_type": "code",
   "execution_count": null,
   "metadata": {
    "collapsed": true
   },
   "outputs": [],
   "source": []
  }
 ],
 "metadata": {
  "kernelspec": {
   "display_name": "Python 3",
   "language": "python",
   "name": "python3"
  },
  "language_info": {
   "codemirror_mode": {
    "name": "ipython",
    "version": 3
   },
   "file_extension": ".py",
   "mimetype": "text/x-python",
   "name": "python",
   "nbconvert_exporter": "python",
   "pygments_lexer": "ipython3",
   "version": "3.6.1"
  }
 },
 "nbformat": 4,
 "nbformat_minor": 2
}
